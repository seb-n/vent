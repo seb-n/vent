{
 "cells": [
  {
   "cell_type": "code",
   "execution_count": 10,
   "metadata": {},
   "outputs": [],
   "source": [
    "import os\n",
    "import pandas as pd\n",
    "import json\n",
    "import datetime"
   ]
  },
  {
   "cell_type": "code",
   "execution_count": 2,
   "metadata": {},
   "outputs": [],
   "source": [
    "base_path = \"/home/seb/thesis/mitmdump_sample\""
   ]
  },
  {
   "cell_type": "markdown",
   "metadata": {},
   "source": [
    "### Parse the edge data"
   ]
  },
  {
   "cell_type": "code",
   "execution_count": 3,
   "metadata": {},
   "outputs": [],
   "source": [
    "data = {\"source\": [], \"target\": [], \"timestamp\": []}\n",
    "for user_id in os.listdir(base_path):\n",
    "    if os.path.exists(f\"{base_path}/{user_id}/followings\"):\n",
    "        for other_user_id in os.listdir(f\"{base_path}/{user_id}/followings\"):\n",
    "            with open(f\"{base_path}/{user_id}/followings/{other_user_id}\", \"r\") as f:\n",
    "                data[\"source\"].append(user_id)\n",
    "                data[\"target\"].append(other_user_id)\n",
    "                data[\"timestamp\"].append(json.load(f)[\"createdOn\"])\n",
    "    if os.path.exists(f\"{base_path}/{user_id}/followers\"):\n",
    "        for other_user_id in os.listdir(f\"{base_path}/{user_id}/followers\"):\n",
    "            with open(f\"{base_path}/{user_id}/followers/{other_user_id}\", \"r\") as f:\n",
    "                data[\"source\"].append(other_user_id)\n",
    "                data[\"target\"].append(user_id)\n",
    "                data[\"timestamp\"].append(json.load(f)[\"createdOn\"])"
   ]
  },
  {
   "cell_type": "code",
   "execution_count": 6,
   "metadata": {},
   "outputs": [],
   "source": [
    "df = pd.DataFrame(data)\n",
    "df = df.drop_duplicates()\n",
    "df.to_csv(\"network.csv\", index=False)"
   ]
  },
  {
   "cell_type": "markdown",
   "metadata": {},
   "source": [
    "### Parse node attributes"
   ]
  },
  {
   "cell_type": "code",
   "execution_count": 11,
   "metadata": {},
   "outputs": [],
   "source": [
    "d = {uid: {} for uid in pd.concat([df[\"source\"], df[\"target\"]]).unique()}\n",
    "for uid in pd.concat([df[\"source\"], df[\"target\"]]).unique():\n",
    "    if os.path.exists(f\"mitmdump_sample/{uid}/bio.json\"):\n",
    "        with open(f\"mitmdump_sample/{uid}/bio.json\", \"r\") as f:\n",
    "            bio = json.load(f)\n",
    "            if \"gender\" in bio[\"extensionDTO\"].keys():\n",
    "                d[uid][\"gender\"] = \"\".join(i.lower() for i in bio[\"extensionDTO\"][\"gender\"] if i.isalpha())\n",
    "            else:\n",
    "                d[uid][\"gender\"] = \"\"\n",
    "            d[uid][\"age\"] = int(bio[\"age\"])\n",
    "            d[uid][\"post_count\"] = int(bio[\"createdQuestionCount\"])\n",
    "            d[uid][\"time_on_platform\"] = (datetime.date(2024, 3, 1) - datetime.datetime.strptime(bio[\"createdOn\"].split(\"T\")[0], \"%Y-%m-%d\").date()).days\n",
    "            #if \"latestMoodPackageId\" in bio[\"extensionDTO\"].keys():\n",
    "            #    d[uid][\"latest_mood\"] = int(bio[\"extensionDTO\"][\"latestMoodPackageId\"])\n",
    "            #else:\n",
    "            #    d[uid][\"latest_mood\"] = None"
   ]
  },
  {
   "cell_type": "code",
   "execution_count": 12,
   "metadata": {},
   "outputs": [],
   "source": [
    "#map genders\n",
    "\n",
    "female = [\"female\", \"fem\", \"sheher\", \"f\", \"queen\", \"gal\", \"spicygal\", \"mama\", \"witch\", \"lady\", \"chick\", \"woman\", \"women\", \"girl\", \"seductress\", \"whore\", \"slut\", \"stargirl\", \"goddess\",\n",
    "          \"tumblrgirl\", \"princess\", \"adultfemale\", \"bimbosuccubus\", \"vampireprincess\", \"milf\", \"cakegirl\", \"femme\", \"damsel\", \"highlady\", \"puppygirl\", \"catgirl\", \"girlfailure\",\n",
    "          \"clownfemale\", \"princesse\", \"girlie\", \"cumdumpster\", \"sillygirl\", \"femaleharuspex\", \"iamgorl\", \"coolgirl\", \"nymph\", \"needygirl\", \"grl\", \"mommy\", \"guttergirl\", \"grandma\",\n",
    "          \"cumdump\", \"gothslut\", \"girlfreak\", \"slutbeast\", \"bitch\", \"demonqueen\", \"weirdgirl\", \"girlboss\", \"girlthing\", \"womanmoment\", \"fembot\", \"lovergrill\", \"gothgirl\",\n",
    "          \"thatbitch\", \"girly\", \"vampprincess\", \"sadgirl\", \"fairygirl\", \"gf\", \"kittygirl\", \"justagirl\", \"girlgamer\", \"mom\", \"sceneslut\", \"dumbcunt\", \"dumbcumslut\", \"dumbbitch\",\n",
    "          \"ambientgirl\", \"kafkaesquegirl\", \"unstablebitch\", \"hardfemme\", \"devilgirl\", \"vampiress\", \"girlishthing\", \"futurecatlady\", \"bogwitch\"]\n",
    "male = [\"male\", \"man\", \"men\", \"m\", \"hehim\", \"daddy\", \"boyfreak\", \"manthing\", \"fuckboy\", \"straightmale\", \"cooldude\", \"catboy\", \"boything\", \"4th_run_logsvampiredad\",\n",
    "        \"ratboy\", \"boi\", \"boygenius\", \"foxboy\", \"dude\", \"justalilguy\", \"dollboy\", \"maleabomination\", \"guy\", \"dawg\", \"neoboy\", \"dogboyhimbo\", \"coolguy\", \"cowboy\", \"sillyguy\",\n",
    "        \"boy\", \"boytoy\", \"dogboy\", \"carguy\", \"sillyman\", \"guybro\", \"starboy\", \"boyloser\", \"puppyboy\", \"freakguy\", \"boiii\", \"sillydude\", \"catguy\", \"businessman\",\n",
    "        \"sparkleboy\", \"malehehim\", \"catboi\", \"masculine\", \"hehimpussy\", \"lilguy\", \"manchild\", \"prince\", \"guything\", \"sillyguytm\", \"computerboy\", \"cuntboy\", \"malecow\", \"wolfman\",\n",
    "        \"coyoteboy\", \"aguyhethey\", \"hesaboy\", \"cismale\", \"somenerdyguy\", \"manwhore\", \"manbutwrong\", \"catdogboytoy\"]\n",
    "nonbinary = [\"nb\", \"shethey\", \"nan\", \"nonbinary\", \"agender\", \"trans\", \"transmasc\", \"transfem\", \"transman\", \"genderfluid\", \"hethem\", \"xenogenders\", \"genderqueer\",\n",
    "             \"hethey\", \"gay\", \"lesbian\", \"apagender\", \"theythem\", \"demigirl\", \"transgirlthing\", \"fiestyfag\", \"femboymale\", \"genderfae\", \"nonbinaryman\", \"nonbinarywoman\",\n",
    "             \"transnb\", \"genderneutral\", \"anypronouns\", \"pangender\", \"bisexual\", \"nbwoman\", \"nbman\", \"androgyne\", \"demiman\", \"transmascenby\", \"agenderfluid\", \"transguy\",\n",
    "             \"bigender\", \"transmasculine\", \"pansexual\", \"nønbinary\", \"theyithe\", \"demiboy\", \"mtftrans\", \"it\", \"heit\", \"ftm\", \"androgynous\", \"genderflux\", \"bimale\", \"theyit\",\n",
    "             \"noncomforming\", \"enbytranswomen\", \"transagender\", \"sheherit\", \"theyshe\", \"sheherhim\", \"nonbinaryfairy\", \"dyke\", \"faggot\", \"transmtf\", \"queer\", \"girlfag\",\n",
    "             \"transgender\", \"nbmasc\", \"transfemale\", \"confused\", \"enbytransmasc\", \"transmascbutch\", \"fluid\", \"nbmale\", \"girlflux\", \"transfemme\", \"neagender\", \"other\",\n",
    "             \"nbmascflux\", \"pretransmtf\", \"transgenderer\", \"transneumasc\", \"nbdemonboy\", \"agenderdemiguy\", \"notsure\", \"eldritchlesbian\", \"queerasfuck\", \"notheythem\",\n",
    "             \"transmascmale\", \"shetheyhe\", \"maleish\", \"girlboything\", \"techgender\", \"nonbianary\", \"ittwink\", \"hetheylgbt\", \"afabnonbinary\", \"boyflux\", \"fag\", \"intersexenby\",\n",
    "             \"femalebisexual\", \"transmascthing\", \"nonbinarything\", \"generfluid\", \"genderlessmasc\", \"intersex\", \"dykeboy\", \"none\", \"unlabeled\", \"girlboy\", \"gendervoid\",\n",
    "             \"hehimgirlypop\", \"bigenders\", \"femboy\", \"faedemigirl\", \"catgirlfoxboy\", \"boygirl\", \"homo\", \"usuallyagirl\", \"bi\", \"boygirlthing\", \"they\", \"xeno\", \"malewife\",\n",
    "             \"demigirlace\", \"sapphic\", \"nonbinarycatboy\", \"transdude\", \"mansideofenby\", \"girlish\", \"girlboyangel\", \"bimboyboyfail\", \"girboylnt\", \"hetheyit\", \"transmascnb\",\n",
    "             \"gendrfluidfemme\", \"gfluid\", \"itthey\", \"nonbinaryguy\", \"nonbinaryfem\", \"boyishdisgrace\", \"womanman\", \"guyish\", \"lesbo\", \"heshethey\", \"femmeenby\", \"vampirefaggot\",\n",
    "             \"transmale\", \"nobinary\", \"demifluid\", \"demigender\", \"femmenonbinary\", \"nbyboyflux\", \"tranny\", \"omnigender\", \"fagdyke\", \"masclesbian\", \"genderless\", \"amenace\",\n",
    "             \"genderfree\", \"nogender\", \"gatygender\", \"xhexer\", \"nbtrans\", \"transnonbinary\", \"nbtransman\", \"andro\", \"dual\", \"multigender\", \"agenderafab\", \"maleftm\", \"demimale\",\n",
    "             \"neutral\", \"transdemiboy\", \"genderfaun\", \"nby\", \"xenofemale\", \"libramasculine\", \"eviasgender\", \"enbytransman\", \"nbfem\", \"theyhe\", \"transnbagender\", \"demigenderf\",\n",
    "             \"enbytheythem\", \"unlabelled\", \"neutrandrogyne\", \"demifemme\", \"heshe\", \"girlygirlboy\", \"theysheᵕ\", \"crossdressmtf\", \"idk\", \"nbtheythem\", \"anygender\", \"traggot\",\n",
    "             \"transftm\", \"agendercatgirl\", \"lilbinary\", \"idunno\", \"transmascsextoy\", \"anyprnns\", \"transneutral\", \"nbtheyhe\", \"nobiney\", \"nbtransmasc\", \"unknown\", \"mascnonbinary\",\n",
    "             \"sissy\", \"boywife\", \"sissy\", \"nonbinaryqueer\", \"intersexman\", \"agenderboygirl\", \"nonbinarypony\", \"fagboy\", \"gaeboy\", \"ithe\", \"transgirl\", \"clownfag\", \"gaytheythem\",\n",
    "             \"demiagender\", \"transwoman\", \"vampireheshe\", \"nbgenderfluid\", \"tomboy\", \"ititsany\", \"voidmasc\", \"acepilot\", \"theyheit\", \"enbygirl\", \"feminineboy\", \"shehim\",\n",
    "             \"nbitransmasc\", \"transfemboy\", \"shetheybug\", \"ftmnb\", \"afabbigender\", \"demigurl\", \"queermo\", \"nombinary\", \"therhythmthief\", \"transmascdummy\", \"transfemnby\",\n",
    "             \"biswitch\", \"transmaschehim\", \"demiguy\", \"mascagender\", \"lesbean\", \"bigolnb\", \"kittennonbinary\"]\n",
    "gender_map = dict()\n",
    "for g in [x for x in d.values()]:\n",
    "    try:\n",
    "        g = g[\"gender\"]\n",
    "        \n",
    "        if g in female:\n",
    "            gender_map[g] = \"female\"\n",
    "        elif g in male:\n",
    "            gender_map[g] = \"male\"\n",
    "        elif g in nonbinary:\n",
    "            gender_map[g] = \"nonbinary\"\n",
    "        elif g == \"\":\n",
    "            gender_map[g] = \"empty\"\n",
    "        else:\n",
    "            gender_map[g] = \"other\"\n",
    "    except:\n",
    "        continue"
   ]
  },
  {
   "cell_type": "code",
   "execution_count": 13,
   "metadata": {},
   "outputs": [
    {
     "name": "stderr",
     "output_type": "stream",
     "text": [
      "/tmp/ipykernel_2186448/2326688876.py:8: FutureWarning: In a future version, `df.iloc[:, i] = newvals` will attempt to set the values inplace instead of always setting a new array. To retain the old behavior, use either `df[df.columns[i]] = newvals` or, if columns are non-unique, `df.isetitem(i, newvals)`\n",
      "  attribs.loc[:, attribs.columns!=\"gender\"] = attribs.drop([\"gender\"], axis=1).astype(int)\n"
     ]
    }
   ],
   "source": [
    "#convert attribute dict to dataframe\n",
    "attribs = pd.DataFrame(d).T.reset_index(names=\"user_id\")\n",
    "#make sure there are no missing values\n",
    "attribs = attribs[~attribs[\"post_count\"].isna()]\n",
    "#map genders\n",
    "attribs[\"gender\"] = attribs[\"gender\"].map(gender_map)\n",
    "#convert dtypes\n",
    "attribs.loc[:, attribs.columns!=\"gender\"] = attribs.drop([\"gender\"], axis=1).astype(int)\n",
    "attribs = attribs.reset_index(drop=True)\n",
    "#write to file\n",
    "attribs.to_csv(\"node_attributes.csv\", index=False)"
   ]
  },
  {
   "cell_type": "code",
   "execution_count": null,
   "metadata": {},
   "outputs": [],
   "source": []
  }
 ],
 "metadata": {
  "kernelspec": {
   "display_name": "Python 3",
   "language": "python",
   "name": "python3"
  },
  "language_info": {
   "codemirror_mode": {
    "name": "ipython",
    "version": 3
   },
   "file_extension": ".py",
   "mimetype": "text/x-python",
   "name": "python",
   "nbconvert_exporter": "python",
   "pygments_lexer": "ipython3",
   "version": "3.10.12"
  }
 },
 "nbformat": 4,
 "nbformat_minor": 2
}
