{
 "cells": [
  {
   "cell_type": "code",
   "execution_count": 1,
   "metadata": {},
   "outputs": [],
   "source": [
    "import os\n",
    "import json\n",
    "import pickle"
   ]
  },
  {
   "cell_type": "code",
   "execution_count": 2,
   "metadata": {},
   "outputs": [],
   "source": [
    "base_path = \"/home/seb/thesis/mitmdump_sample\" \n",
    "user_ids = os.listdir(\"/home/seb/thesis/mitmdump_sample\")"
   ]
  },
  {
   "cell_type": "code",
   "execution_count": 3,
   "metadata": {},
   "outputs": [],
   "source": [
    "#select users who made over a 100 posts\n",
    "relevant_users = []\n",
    "for u_id in user_ids:\n",
    "    if len(os.listdir(f\"{base_path}/{u_id}/posts\")) > 100:\n",
    "        relevant_users.append(u_id)"
   ]
  },
  {
   "cell_type": "code",
   "execution_count": 4,
   "metadata": {},
   "outputs": [],
   "source": [
    "#parse in post and comment data from directories\n",
    "posts = list()\n",
    "comments = list()\n",
    "for user_id in relevant_users:\n",
    "    for post_id in os.listdir(f\"{base_path}/{user_id}/posts/\"):\n",
    "        with open(f\"{base_path}/{user_id}/posts/{post_id}/post.json\", \"r\") as f:\n",
    "            post_dict = json.load(f)\n",
    "        posts.append({\"user_id\": user_id,\n",
    "                                \"post_id\": post_id,\n",
    "                                \"content\": post_dict[\"content\"],\n",
    "                                \"timestamp\": post_dict[\"createdOn2\"]})\n",
    "        if \"moodId\" in post_dict:\n",
    "            posts[-1][\"mood_id\"] = post_dict[\"moodId\"]\n",
    "        if \"newMood\" in post_dict:\n",
    "            posts[-1][\"mood_name\"] = post_dict[\"newMood\"]\n",
    "        if len(os.listdir(f\"{base_path}/{user_id}/posts/{post_id}\")) > 1:\n",
    "            for comment_id in os.listdir(f\"{base_path}/{user_id}/posts/{post_id}\"):\n",
    "                if comment_id == \"post.json\":\n",
    "                    continue\n",
    "                elif \"reply\" in comment_id:\n",
    "                    with open(f\"{base_path}/{user_id}/posts/{post_id}/{comment_id}\", \"r\") as f:\n",
    "                        chain = json.load(f)\n",
    "                    for comment in chain[\"replies\"]:\n",
    "                        comments.append({\"post_id\": post_id,\n",
    "                                            \"content\": comment[\"content\"],\n",
    "                                            \"timestamp\": comment[\"createdOn\"],\n",
    "                                            \"author\": comment[\"createdBy\"][\"id\"],\n",
    "                                            \"reply_to\": [i[\"userId\"] for i in comment[\"taggedUsers\"]]})\n",
    "                else:\n",
    "                    with open(f\"{base_path}/{user_id}/posts/{post_id}/{comment_id}\", \"r\") as f:\n",
    "                        comment = json.load(f)\n",
    "                    comments.append({\"post_id\": post_id,\n",
    "                                        \"content\": comment[\"content\"],\n",
    "                                        \"timestamp\": comment[\"createdOn\"],\n",
    "                                        \"author\": comment[\"createdBy\"][\"id\"],\n",
    "                                        \"reply_to\": \"\"})"
   ]
  },
  {
   "cell_type": "code",
   "execution_count": 7,
   "metadata": {},
   "outputs": [],
   "source": [
    "#write post and comments to file\n",
    "with open(\"posts.pickle\", \"wb\") as f:\n",
    "    pickle.dump(posts, f)\n",
    "with open(\"comments.pickle\", \"wb\") as f:\n",
    "    pickle.dump(comments, f)"
   ]
  },
  {
   "cell_type": "code",
   "execution_count": null,
   "metadata": {},
   "outputs": [],
   "source": []
  }
 ],
 "metadata": {
  "kernelspec": {
   "display_name": "Python 3",
   "language": "python",
   "name": "python3"
  },
  "language_info": {
   "codemirror_mode": {
    "name": "ipython",
    "version": 3
   },
   "file_extension": ".py",
   "mimetype": "text/x-python",
   "name": "python",
   "nbconvert_exporter": "python",
   "pygments_lexer": "ipython3",
   "version": "3.10.12"
  }
 },
 "nbformat": 4,
 "nbformat_minor": 2
}
