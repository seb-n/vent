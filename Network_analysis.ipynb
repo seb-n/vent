{
 "cells": [
  {
   "cell_type": "code",
   "execution_count": 1,
   "metadata": {},
   "outputs": [],
   "source": [
    "import pandas as pd\n",
    "import matplotlib.pyplot as plt\n",
    "import networkx as nx\n",
    "from networkx.algorithms.assortativity.mixing import (\n",
    "    attribute_mixing_matrix,\n",
    "    attribute_mixing_dict,\n",
    "    degree_mixing_matrix,\n",
    ")\n",
    "import datetime\n",
    "from collections import Counter\n",
    "import seaborn as sns"
   ]
  },
  {
   "cell_type": "code",
   "execution_count": 2,
   "metadata": {},
   "outputs": [],
   "source": [
    "#read in edge data\n",
    "df = pd.read_csv(\"network.csv\")\n",
    "df[\"source\"] = df[\"source\"].astype(int)\n",
    "df[\"target\"] = df[\"target\"].astype(int)"
   ]
  },
  {
   "cell_type": "code",
   "execution_count": 4,
   "metadata": {},
   "outputs": [],
   "source": [
    "#read in node attributes\n",
    "attribs = pd.read_csv(\"node_attributes.csv\")\n",
    "#convert dtype\n",
    "attribs.loc[:, attribs.columns!=\"gender\"] = attribs.drop([\"gender\"], axis=1).astype(int)"
   ]
  },
  {
   "cell_type": "code",
   "execution_count": 5,
   "metadata": {},
   "outputs": [],
   "source": [
    "#create network\n",
    "G = nx.from_pandas_edgelist(df[[\"source\", \"target\"]], create_using=nx.DiGraph)\n",
    "#add node attributes\n",
    "for name in [\"gender\", \"age\", \"post_count\", \"time_on_platform\"]:\n",
    "    nx.set_node_attributes(G, attribs[[name, \"user_id\"]].set_index(\"user_id\").loc[:, name], name)"
   ]
  },
  {
   "cell_type": "code",
   "execution_count": 6,
   "metadata": {},
   "outputs": [],
   "source": [
    "#drop nodes that do not have metadata\n",
    "for node in list(G.nodes(data=True)):\n",
    "    if len(node[1]) == 0:\n",
    "        G.remove_node(node[0])"
   ]
  },
  {
   "cell_type": "markdown",
   "metadata": {},
   "source": [
    "### Degree distributions"
   ]
  },
  {
   "cell_type": "code",
   "execution_count": 14,
   "metadata": {},
   "outputs": [
    {
     "data": {
      "image/png": "[encoded data removed]",
      "text/plain": [
       "<Figure size 432x288 with 1 Axes>"
      ]
     },
     "metadata": {
      "needs_background": "light"
     },
     "output_type": "display_data"
    }
   ],
   "source": [
    "outdegree = Counter([i[1] for i in list(G.out_degree)])\n",
    "for k, v in dict(outdegree).items():\n",
    "    plt.scatter(x=k, y=v, c=\"blue\")\n",
    "plt.xscale(\"log\")\n",
    "plt.yscale(\"log\")\n",
    "plt.ylabel(\"frequency\")\n",
    "plt.xlabel(\"degree\")\n",
    "plt.savefig(\"outdegree\")"
   ]
  },
  {
   "cell_type": "code",
   "execution_count": 15,
   "metadata": {},
   "outputs": [
    {
     "data": {
      "image/png": "[encoded data removed]",
      "text/plain": [
       "<Figure size 432x288 with 1 Axes>"
      ]
     },
     "metadata": {
      "needs_background": "light"
     },
     "output_type": "display_data"
    }
   ],
   "source": [
    "indegree = Counter([i[1] for i in list(G.in_degree)])\n",
    "for k, v in dict(outdegree).items():\n",
    "    plt.scatter(x=k, y=v, c=\"blue\")\n",
    "plt.xscale(\"log\")\n",
    "plt.yscale(\"log\")\n",
    "plt.ylabel(\"frequency\")\n",
    "plt.xlabel(\"degree\")\n",
    "plt.savefig(\"indegree\")"
   ]
  },
  {
   "cell_type": "markdown",
   "metadata": {},
   "source": [
    "### Basic network stats"
   ]
  },
  {
   "cell_type": "code",
   "execution_count": 9,
   "metadata": {},
   "outputs": [
    {
     "data": {
      "text/plain": [
       "0.5140726016496598"
      ]
     },
     "execution_count": 9,
     "metadata": {},
     "output_type": "execute_result"
    }
   ],
   "source": [
    "nx.reciprocity(G)"
   ]
  },
  {
   "cell_type": "code",
   "execution_count": 10,
   "metadata": {},
   "outputs": [
    {
     "data": {
      "text/plain": [
       "0.11123065457223291"
      ]
     },
     "execution_count": 10,
     "metadata": {},
     "output_type": "execute_result"
    }
   ],
   "source": [
    "cc = nx.clustering(G)\n",
    "sum(cc.values()) / len(cc)"
   ]
  },
  {
   "cell_type": "code",
   "execution_count": 11,
   "metadata": {},
   "outputs": [
    {
     "data": {
      "text/plain": [
       "0.00026734803196402625"
      ]
     },
     "execution_count": 11,
     "metadata": {},
     "output_type": "execute_result"
    }
   ],
   "source": [
    "nx.density(G)"
   ]
  },
  {
   "cell_type": "markdown",
   "metadata": {},
   "source": [
    "### Assortativity"
   ]
  },
  {
   "cell_type": "code",
   "execution_count": 23,
   "metadata": {},
   "outputs": [],
   "source": [
    "#create random reference network\n",
    "#this graph will have the same connection, but shuffled attributes\n",
    "shuffled_G = G.copy()\n",
    "shuffled_attribs = attribs.copy()\n",
    "shuffled_attribs[\"user_id\"] = shuffled_attribs[\"user_id\"].sample(frac=1, random_state=1).reset_index(drop=True)\n",
    "#add atributes to nodes\n",
    "for name in [\"gender\", \"age\", \"post_count\", \"time_on_platform\"]:\n",
    "    nx.set_node_attributes(shuffled_G, shuffled_attribs[[name, \"user_id\"]].set_index(\"user_id\").loc[:, name], name)"
   ]
  },
  {
   "cell_type": "code",
   "execution_count": 24,
   "metadata": {},
   "outputs": [
    {
     "name": "stdout",
     "output_type": "stream",
     "text": [
      "0.04260778148482193\n",
      "0.0003312440949745456\n"
     ]
    }
   ],
   "source": [
    "#age assortativity\n",
    "print(nx.numeric_assortativity_coefficient(G, \"age\"))\n",
    "print(nx.numeric_assortativity_coefficient(shuffled_G, \"age\"))"
   ]
  },
  {
   "cell_type": "code",
   "execution_count": 25,
   "metadata": {},
   "outputs": [
    {
     "name": "stdout",
     "output_type": "stream",
     "text": [
      "0.3411679129570621\n",
      "-0.00021532278363527223\n"
     ]
    }
   ],
   "source": [
    "#time on platform assortativity\n",
    "print(nx.numeric_assortativity_coefficient(G, \"time_on_platform\"))\n",
    "print(nx.numeric_assortativity_coefficient(shuffled_G, \"time_on_platform\"))"
   ]
  },
  {
   "cell_type": "code",
   "execution_count": 26,
   "metadata": {},
   "outputs": [
    {
     "name": "stdout",
     "output_type": "stream",
     "text": [
      "0.0028888804129231283\n",
      "-0.002689531331603341\n"
     ]
    }
   ],
   "source": [
    "#post count assortativity\n",
    "print(nx.numeric_assortativity_coefficient(G, \"post_count\"))\n",
    "print(nx.numeric_assortativity_coefficient(shuffled_G, \"post_count\"))"
   ]
  },
  {
   "cell_type": "markdown",
   "metadata": {},
   "source": [
    "#### Gender assortativity"
   ]
  },
  {
   "cell_type": "code",
   "execution_count": 27,
   "metadata": {},
   "outputs": [
    {
     "data": {
      "text/plain": [
       "Text(0.5, 15.0, 'target')"
      ]
     },
     "execution_count": 27,
     "metadata": {},
     "output_type": "execute_result"
    },
    {
     "data": {
      "image/png": "[encoded data removed]",
      "text/plain": [
       "<Figure size 432x288 with 2 Axes>"
      ]
     },
     "metadata": {
      "needs_background": "light"
     },
     "output_type": "display_data"
    }
   ],
   "source": [
    "#sanity check that the matrix sums to 1\n",
    "#print(pd.DataFrame(attribute_mixing_dict(G, attribute=\"gender\", normalized=True)).sum().sum())\n",
    "#raw frequencies for original graph\n",
    "sns.heatmap(pd.DataFrame(attribute_mixing_dict(G, attribute=\"gender\", normalized=True)).T, annot=True, fmt=\".4f\")\n",
    "plt.ylabel(\"source\")\n",
    "plt.xlabel(\"target\")"
   ]
  },
  {
   "cell_type": "code",
   "execution_count": 28,
   "metadata": {},
   "outputs": [
    {
     "data": {
      "text/plain": [
       "Text(0.5, 15.0, 'target')"
      ]
     },
     "execution_count": 28,
     "metadata": {},
     "output_type": "execute_result"
    },
    {
     "data": {
      "image/png": "[encoded data removed]",
      "text/plain": [
       "<Figure size 432x288 with 2 Axes>"
      ]
     },
     "metadata": {
      "needs_background": "light"
     },
     "output_type": "display_data"
    }
   ],
   "source": [
    "#sanity check that the matrix sums to 1\n",
    "#print(pd.DataFrame(attribute_mixing_dict(shuffled_G, attribute=\"gender\", normalized=True)).sum().sum())\n",
    "#raw frequencies for shuffled graph\n",
    "sns.heatmap(pd.DataFrame(attribute_mixing_dict(shuffled_G, attribute=\"gender\", normalized=True)).T, annot=True, fmt=\".4f\")\n",
    "plt.ylabel(\"source\")\n",
    "plt.xlabel(\"target\")"
   ]
  },
  {
   "cell_type": "code",
   "execution_count": 30,
   "metadata": {},
   "outputs": [
    {
     "data": {
      "image/png": "[encoded data removed]",
      "text/plain": [
       "<Figure size 432x288 with 2 Axes>"
      ]
     },
     "metadata": {
      "needs_background": "light"
     },
     "output_type": "display_data"
    }
   ],
   "source": [
    "#normalized gender assortativity\n",
    "sns.heatmap(pd.DataFrame(attribute_mixing_dict(G, attribute=\"gender\", normalized=True)).T/pd.DataFrame(attribute_mixing_dict(shuffled_G, attribute=\"gender\", normalized=True)).T, annot=True, fmt=\".4f\")\n",
    "plt.ylabel(\"source\")\n",
    "plt.xlabel(\"target\")\n",
    "plt.tight_layout()\n",
    "plt.savefig(\"gender_assortativity\")"
   ]
  },
  {
   "cell_type": "markdown",
   "metadata": {},
   "source": [
    "### Interaction graph\n",
    "\n",
    "Decided not to use it in the report, since I only have posts from 750 people, so they are the only ones having incoming edges and it skews a lot. However, since I already wrote the code I will just drop it here"
   ]
  },
  {
   "cell_type": "code",
   "execution_count": null,
   "metadata": {},
   "outputs": [],
   "source": [
    "#read in posts and comments\n",
    "comments = pd.read_csv(\"comments\")\n",
    "posts = pd.read_csv(\"posts\")"
   ]
  },
  {
   "cell_type": "code",
   "execution_count": null,
   "metadata": {},
   "outputs": [],
   "source": [
    "#join comments onto posts\n",
    "merged = posts.merge(comments, on=\"post_id\", how=\"right\")"
   ]
  },
  {
   "cell_type": "code",
   "execution_count": null,
   "metadata": {},
   "outputs": [],
   "source": [
    "#transform it into a simple edgelist with connection count\n",
    "interaction_df = merged[[\"user_id\", \"author\"]].value_counts().reset_index()\n",
    "interaction_df[\"user_id\"] = interaction_df[\"user_id\"].astype(int)\n",
    "interaction_df[\"author\"] = interaction_df[\"author\"].astype(int)\n",
    "interaction_df = interaction_df.rename(columns={0: \"count\"})\n",
    "interaction_df[\"count\"] = interaction_df[\"count\"].astype(int)\n",
    "#exclude self loops\n",
    "interaction_df = interaction_df[interaction_df[\"author\"]!=interaction_df[\"user_id\"]]"
   ]
  },
  {
   "cell_type": "code",
   "execution_count": null,
   "metadata": {},
   "outputs": [],
   "source": [
    "#create interaction graph\n",
    "interaction_graph = nx.from_pandas_edgelist(interaction_df, source=\"author\", target=\"user_id\", edge_attr=\"count\", create_using=nx.DiGraph)"
   ]
  },
  {
   "cell_type": "code",
   "execution_count": null,
   "metadata": {},
   "outputs": [],
   "source": [
    "#add metadata to nodes\n",
    "for name in [\"gender\", \"age\", \"post_count\", \"time_on_platform\"]:\n",
    "    nx.set_node_attributes(interaction_graph, attribs[[name, \"user_id\"]].set_index(\"user_id\").loc[:, name], name)"
   ]
  },
  {
   "cell_type": "code",
   "execution_count": null,
   "metadata": {},
   "outputs": [],
   "source": [
    "#remove nodes with missing metadata\n",
    "for node in list(interaction_graph.nodes(data=True)):\n",
    "    if len(node[1]) == 0:\n",
    "        interaction_graph.remove_node(node[0])"
   ]
  },
  {
   "cell_type": "code",
   "execution_count": null,
   "metadata": {},
   "outputs": [],
   "source": [
    "#create reference random network\n",
    "shuffled_interaction_graph = interaction_graph.copy()"
   ]
  },
  {
   "cell_type": "code",
   "execution_count": null,
   "metadata": {},
   "outputs": [],
   "source": [
    "#add shuffled labels to random reference network\n",
    "#we can reuse the shuffled attributes from earlier\n",
    "for name in [\"gender\", \"age\", \"post_count\", \"time_on_platform\"]:\n",
    "    nx.set_node_attributes(shuffled_interaction_graph, shuffled_attribs[[name, \"user_id\"]].set_index(\"user_id\").loc[:, name], name)"
   ]
  },
  {
   "cell_type": "code",
   "execution_count": null,
   "metadata": {},
   "outputs": [],
   "source": [
    "#modify nx's attribute mixing dict to account for edge weights\n",
    "def weighted_mixing_dict(G, attribute=\"gender\", normalized=False):\n",
    "    d = {}\n",
    "    psum = 0.0\n",
    "    for u, v, attr in G.edges(data=True):\n",
    "        x = G.nodes[u][attribute]\n",
    "        y = G.nodes[v][attribute]\n",
    "        if x not in d:\n",
    "            d[x] = {}\n",
    "        if y not in d:\n",
    "            d[y] = {}\n",
    "        val = d[x].get(y, 0)\n",
    "        d[x][y] = val + attr[\"count\"]\n",
    "        psum += attr[\"count\"]\n",
    "\n",
    "    if normalized:\n",
    "        for _, jdict in d.items():\n",
    "            for j in jdict:\n",
    "                jdict[j] /= psum\n",
    "    return d"
   ]
  },
  {
   "cell_type": "code",
   "execution_count": null,
   "metadata": {},
   "outputs": [],
   "source": [
    "#unweighted normalized gender assortativity\n",
    "sns.heatmap(pd.DataFrame(attribute_mixing_dict(interaction_graph, attribute=\"gender\", normalized=True)).T/pd.DataFrame(attribute_mixing_dict(shuffled_interaction_graph, attribute=\"gender\", normalized=True)).T, annot=True, fmt=\".4f\")\n",
    "plt.ylabel(\"source\")\n",
    "plt.xlabel(\"target\")"
   ]
  },
  {
   "cell_type": "code",
   "execution_count": null,
   "metadata": {},
   "outputs": [],
   "source": [
    "#weighted normalized gender assortativity\n",
    "sns.heatmap(pd.DataFrame(weighted_mixing_dict(interaction_graph, attribute=\"gender\", normalized=True)).T/pd.DataFrame(weighted_mixing_dict(shuffled_interaction_graph, attribute=\"gender\", normalized=True)).T, annot=True, fmt=\".4f\")\n",
    "plt.ylabel(\"source\")\n",
    "plt.xlabel(\"target\")"
   ]
  },
  {
   "cell_type": "markdown",
   "metadata": {},
   "source": [
    "##### Basic stats of interaction network"
   ]
  },
  {
   "cell_type": "code",
   "execution_count": null,
   "metadata": {},
   "outputs": [],
   "source": [
    "print(nx.reciprocity(interaction_graph))"
   ]
  },
  {
   "cell_type": "code",
   "execution_count": null,
   "metadata": {},
   "outputs": [],
   "source": [
    "print(nx.numeric_assortativity_coefficient(interaction_graph, \"age\"))\n",
    "print(nx.numeric_assortativity_coefficient(shuffled_interaction_graph, \"age\"))"
   ]
  },
  {
   "cell_type": "code",
   "execution_count": null,
   "metadata": {},
   "outputs": [],
   "source": [
    "print(nx.numeric_assortativity_coefficient(interaction_graph, \"post_count\"))\n",
    "print(nx.numeric_assortativity_coefficient(shuffled_interaction_graph, \"post_count\"))"
   ]
  },
  {
   "cell_type": "code",
   "execution_count": null,
   "metadata": {},
   "outputs": [],
   "source": [
    "print(nx.numeric_assortativity_coefficient(interaction_graph, \"time_on_platform\"))\n",
    "print(nx.numeric_assortativity_coefficient(shuffled_interaction_graph, \"time_on_platform\"))"
   ]
  },
  {
   "cell_type": "code",
   "execution_count": null,
   "metadata": {},
   "outputs": [],
   "source": [
    "outdegree = Counter([i[1] for i in list(interaction_graph.out_degree)])\n",
    "for k, v in dict(outdegree).items():\n",
    "    plt.scatter(x=k, y=v, c=\"blue\")\n",
    "#plt.xscale(\"log\")\n",
    "plt.yscale(\"log\")"
   ]
  },
  {
   "cell_type": "code",
   "execution_count": null,
   "metadata": {},
   "outputs": [],
   "source": [
    "indegree = Counter([i[1] for i in list(interaction_graph.in_degree)])\n",
    "for k, v in dict(indegree).items():\n",
    "    plt.scatter(x=k, y=v, c=\"blue\")\n",
    "#plt.xscale(\"log\")\n",
    "plt.yscale(\"log\")"
   ]
  }
 ],
 "metadata": {
  "kernelspec": {
   "display_name": "Python 3",
   "language": "python",
   "name": "python3"
  },
  "language_info": {
   "codemirror_mode": {
    "name": "ipython",
    "version": 3
   },
   "file_extension": ".py",
   "mimetype": "text/x-python",
   "name": "python",
   "nbconvert_exporter": "python",
   "pygments_lexer": "ipython3",
   "version": "3.10.12"
  }
 },
 "nbformat": 4,
 "nbformat_minor": 2
}
